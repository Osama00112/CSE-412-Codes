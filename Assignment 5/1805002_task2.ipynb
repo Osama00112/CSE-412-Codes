{
 "cells": [
  {
   "cell_type": "code",
   "execution_count": 1,
   "metadata": {},
   "outputs": [],
   "source": [
    "import numpy as np\n",
    "import pandas as pd\n",
    "import matplotlib.pyplot as plt"
   ]
  },
  {
   "cell_type": "code",
   "execution_count": 3,
   "metadata": {},
   "outputs": [
    {
     "name": "stdout",
     "output_type": "stream",
     "text": [
      "Population: 100\n",
      "Success: 1\n"
     ]
    }
   ],
   "source": [
    "inputFile = 'in_task2.txt'\n",
    "outputFile = 'out_task2.txt'\n",
    "\n",
    "# take population and successs criteria from input file\n",
    "with open(inputFile, 'r') as f:\n",
    "    # split by space\n",
    "    data = f.read().split()\n",
    "    population = int(data[0])\n",
    "    success = int(data[1])\n",
    "\n",
    "print('Population:', population)\n",
    "print('Success:', success)\n"
   ]
  },
  {
   "cell_type": "code",
   "execution_count": 6,
   "metadata": {},
   "outputs": [
    {
     "name": "stdout",
     "output_type": "stream",
     "text": [
      "Suffled Population: [44, 1, 16, 89, 84, 96, 93, 8, 7, 85, 55, 35, 17, 98, 95, 66, 21, 48, 58, 5, 59, 78, 18, 94, 39, 37, 49, 69, 34, 60, 64, 11, 92, 71, 19, 86, 38, 67, 9, 97, 52, 65, 74, 25, 79, 32, 100, 3, 42, 6, 82, 30, 54, 88, 50, 90, 46, 13, 47, 20, 63, 14, 81, 4, 24, 27, 53, 87, 43, 76, 36, 2, 99, 15, 10, 77, 40, 31, 68, 80, 28, 33, 62, 29, 51, 72, 83, 22, 57, 45, 73, 23, 26, 75, 61, 12, 91, 70, 56, 41]\n"
     ]
    }
   ],
   "source": [
    "# random shuffle of population\n",
    "def shuffle(population):\n",
    "    np.random.shuffle(population)\n",
    "    return population\n",
    "\n",
    "suffledPopulation = shuffle(list(range(1, population+1)))\n",
    "print('Suffled Population:', suffledPopulation)"
   ]
  },
  {
   "cell_type": "code",
   "execution_count": null,
   "metadata": {},
   "outputs": [],
   "source": []
  }
 ],
 "metadata": {
  "kernelspec": {
   "display_name": "Python 3",
   "language": "python",
   "name": "python3"
  },
  "language_info": {
   "codemirror_mode": {
    "name": "ipython",
    "version": 3
   },
   "file_extension": ".py",
   "mimetype": "text/x-python",
   "name": "python",
   "nbconvert_exporter": "python",
   "pygments_lexer": "ipython3",
   "version": "3.11.4"
  }
 },
 "nbformat": 4,
 "nbformat_minor": 2
}
